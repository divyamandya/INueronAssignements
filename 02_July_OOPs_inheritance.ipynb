{
 "cells": [
  {
   "cell_type": "code",
   "execution_count": null,
   "metadata": {},
   "outputs": [],
   "source": [
    "1. Explain what inheritance is in object-oriented programming and why it is used.\n",
    "Answer:Inheritance in object-oriented programming (OOP) is a mechanism by which one class (called the child or subclass) can inherit attributes and methods from another class (called the parent or superclass). This means that the child class can reuse and extend the functionality defined in the parent class, promoting code reuse and enhancing modularity."
   ]
  },
  {
   "cell_type": "code",
   "execution_count": null,
   "metadata": {},
   "outputs": [],
   "source": [
    "2. Discuss the concept of single inheritance and multiple inheritance, highlighting their\n",
    "differences and advantages.\n",
    "Answer:Single Inheritance:  Single inheritance refers to the concept where a subclass inherits from only one superclass.\n",
    "Differences and Advantages:\n",
    "\n",
    "Simplicity: Single inheritance is straightforward and easier to understand since each subclass inherits directly from one superclass.\n",
    "Less Complexity: The class hierarchy remains simpler, reducing the potential for conflicts or confusion in method resolution.\n",
    "Code Reuse: Promotes code reuse by inheriting and extending functionality from a single parent class.\n"
   ]
  },
  {
   "cell_type": "code",
   "execution_count": null,
   "metadata": {},
   "outputs": [],
   "source": []
  },
  {
   "cell_type": "code",
   "execution_count": 1,
   "metadata": {},
   "outputs": [
    {
     "name": "stdout",
     "output_type": "stream",
     "text": [
      "Buddy the Dog says: Woof!\n"
     ]
    }
   ],
   "source": [
    "class Animal:\n",
    "    def __init__(self, species):\n",
    "        self.species = species\n",
    "    \n",
    "    def sound(self):\n",
    "        return \"Generic animal sound...\"\n",
    "\n",
    "class Dog(Animal):\n",
    "    def __init__(self, name):\n",
    "        super().__init__(\"Dog\")\n",
    "        self.name = name\n",
    "    \n",
    "    def sound(self):\n",
    "        return \"Woof!\"\n",
    "\n",
    "# Usage\n",
    "dog = Dog(\"Buddy\")\n",
    "print(f\"{dog.name} the {dog.species} says: {dog.sound()}\")"
   ]
  },
  {
   "cell_type": "code",
   "execution_count": 2,
   "metadata": {},
   "outputs": [
    {
     "ename": "SyntaxError",
     "evalue": "invalid syntax (4276749043.py, line 1)",
     "output_type": "error",
     "traceback": [
      "\u001b[0;36m  Cell \u001b[0;32mIn[2], line 1\u001b[0;36m\u001b[0m\n\u001b[0;31m    Multiple Inheritance\u001b[0m\n\u001b[0m             ^\u001b[0m\n\u001b[0;31mSyntaxError\u001b[0m\u001b[0;31m:\u001b[0m invalid syntax\n"
     ]
    }
   ],
   "source": [
    "Multiple Inheritance\n",
    "Multiple inheritance allows a subclass to inherit attributes and methods from more than one superclass."
   ]
  },
  {
   "cell_type": "code",
   "execution_count": 3,
   "metadata": {},
   "outputs": [
    {
     "name": "stdout",
     "output_type": "stream",
     "text": [
      "Buddy the Dog says: Woof!\n",
      "Buddy is playing.\n"
     ]
    }
   ],
   "source": [
    "class Animal:\n",
    "    def __init__(self, species):\n",
    "        self.species = species\n",
    "    \n",
    "    def sound(self):\n",
    "        return \"Generic animal sound...\"\n",
    "\n",
    "class Pet:\n",
    "    def __init__(self, name):\n",
    "        self.name = name\n",
    "    \n",
    "    def play(self):\n",
    "        return f\"{self.name} is playing.\"\n",
    "\n",
    "class Dog(Animal, Pet):\n",
    "    def __init__(self, name):\n",
    "        Animal.__init__(self, \"Dog\")\n",
    "        Pet.__init__(self, name)\n",
    "    \n",
    "    def sound(self):\n",
    "        return \"Woof!\"\n",
    "\n",
    "# Usage\n",
    "dog = Dog(\"Buddy\")\n",
    "print(f\"{dog.name} the {dog.species} says: {dog.sound()}\")\n",
    "print(dog.play())\n"
   ]
  },
  {
   "cell_type": "code",
   "execution_count": null,
   "metadata": {},
   "outputs": [],
   "source": [
    "Differences and Advantages:\n",
    "\n",
    "Flexibility: Multiple inheritance allows a subclass to inherit behaviors from multiple sources, which can be beneficial in modeling complex relationships or scenarios.\n",
    "Code Reuse: Enables reuse of code from multiple classes, potentially reducing redundancy and promoting modularity.\n",
    "Expressiveness: Provides a way to express relationships where a class inherits features from several different abstractions or concerns.\n",
    "Mixture of Features: Allows classes to combine features and functionalities from disparate sources, which may not be possible with single inheritance."
   ]
  },
  {
   "cell_type": "code",
   "execution_count": 4,
   "metadata": {},
   "outputs": [
    {
     "ename": "SyntaxError",
     "evalue": "invalid syntax (351480320.py, line 1)",
     "output_type": "error",
     "traceback": [
      "\u001b[0;36m  Cell \u001b[0;32mIn[4], line 1\u001b[0;36m\u001b[0m\n\u001b[0;31m    3. Explain the terms \"base class\" and \"derived class\" in the context of inheritance.\u001b[0m\n\u001b[0m       ^\u001b[0m\n\u001b[0;31mSyntaxError\u001b[0m\u001b[0;31m:\u001b[0m invalid syntax\n"
     ]
    }
   ],
   "source": [
    "3. Explain the terms \"base class\" and \"derived class\" in the context of inheritance.\n",
    "Answer:Base Class (Superclass)\n",
    "Definition: A base class, also known as a superclass or parent class, is the class from which other classes (called derived classes or subclasses) inherit attributes and methods.\n",
    "Role: The base class serves as a blueprint that defines common attributes and behaviors that are shared by one or more subclasses.\n",
    "Example: Consider a base class Animal that defines attributes and methods common to all animals. Subclasses like Dog, Cat, and Bird can inherit from Animal to gain these common attributes and behaviors."
   ]
  },
  {
   "cell_type": "code",
   "execution_count": 5,
   "metadata": {},
   "outputs": [],
   "source": [
    "class Animal:\n",
    "    def __init__(self, species):\n",
    "        self.species = species\n",
    "    \n",
    "    def sound(self):\n",
    "        return \"Generic animal sound...\"\n",
    "\n",
    "# Dog class inheriting from Animal (base class)\n",
    "class Dog(Animal):\n",
    "    def __init__(self, name):\n",
    "        super().__init__(\"Dog\")\n",
    "        self.name = name\n",
    "    \n",
    "    def sound(self):\n",
    "        return \"Woof!\"\n"
   ]
  },
  {
   "cell_type": "code",
   "execution_count": null,
   "metadata": {},
   "outputs": [],
   "source": [
    "Derived Class (Subclass)\n",
    "Definition: A derived class, also known as a subclass or child class, is a class that inherits attributes and methods from another class (the base class or superclass).\n",
    "Role: The derived class inherits all the attributes and methods of its superclass and can also define additional attributes or methods specific to its own specialization.\n",
    "Example: In the example above, Dog is a derived class of Animal. It inherits the species attribute and sound() method from Animal and adds its own name attribute and sound() method (\"Woof!\")."
   ]
  },
  {
   "cell_type": "code",
   "execution_count": 6,
   "metadata": {},
   "outputs": [
    {
     "ename": "SyntaxError",
     "evalue": "invalid syntax (342383727.py, line 1)",
     "output_type": "error",
     "traceback": [
      "\u001b[0;36m  Cell \u001b[0;32mIn[6], line 1\u001b[0;36m\u001b[0m\n\u001b[0;31m    4. What is the significance of the \"protected\" access modifier in inheritance? How does\u001b[0m\n\u001b[0m       ^\u001b[0m\n\u001b[0;31mSyntaxError\u001b[0m\u001b[0;31m:\u001b[0m invalid syntax\n"
     ]
    }
   ],
   "source": [
    "4. What is the significance of the \"protected\" access modifier in inheritance? How does\n",
    "it differ from \"private\" and \"public\" modifiers?\n",
    "The \"protected\" access modifier is indicated by a single underscore (_) prefix, serving to indicate that attributes or methods are intended for use within the class or its subclasses. It promotes code organization and clarity while allowing subclasses to extend and specialize behavior.\n",
    "Public members have no access restrictions and can be accessed from anywhere, both within the class and from outside.\n",
    "Private members are intended to be accessible only within the class where they are defined."
   ]
  },
  {
   "cell_type": "code",
   "execution_count": null,
   "metadata": {},
   "outputs": [],
   "source": [
    "5. What is the purpose of the \"super\" keyword in inheritance? Provide an example.\n",
    "the super keyword in Python plays a crucial role in inheritance by enabling subclasses to interact with and extend the behavior of their superclass(es) effectively. It promotes code reuse, supports method overriding, and maintains a structured approach to class hierarchies through the use of Method Resolution Order (MRO)."
   ]
  },
  {
   "cell_type": "code",
   "execution_count": null,
   "metadata": {},
   "outputs": [],
   "source": [
    "class Animal:\n",
    "    def __init__(self, species):\n",
    "        self.species = species\n",
    "    \n",
    "    def sound(self):\n",
    "        return \"Generic animal sound...\"\n",
    "\n",
    "class Dog(Animal):\n",
    "    def __init__(self, name):\n",
    "        super().__init__(\"Dog\")\n",
    "        self.name = name\n",
    "    \n",
    "    def sound(self):\n",
    "        return \"Woof!\"\n",
    "\n",
    "    def make_sound(self):\n",
    "        # Accessing superclass method\n",
    "        return super().sound()\n",
    "\n",
    "# Usage\n",
    "dog = Dog(\"Buddy\")\n",
    "print(f\"{dog.name} the {dog.species} says: {dog.sound()}\")  # Output: \"Buddy the Dog says: Woof!\"\n",
    "\n",
    "# Using super() to access superclass method from subclass method\n",
    "print(dog.make_sound())  # Output: \"Generic animal sound...\"\n"
   ]
  },
  {
   "cell_type": "code",
   "execution_count": null,
   "metadata": {},
   "outputs": [],
   "source": [
    "6. Create a base class called \"Vehicle\" with attributes like \"make\", \"model\", and \"year\".\n",
    "Then, create a derived class called \"Car\" that inherits from \"Vehicle\" and adds an\n",
    "attribute called \"fuel_type\". Implement appropriate methods in both classes."
   ]
  },
  {
   "cell_type": "code",
   "execution_count": 7,
   "metadata": {},
   "outputs": [
    {
     "name": "stdout",
     "output_type": "stream",
     "text": [
      "Make: Toyota\n",
      "Model: Camry\n",
      "Year: 2023\n",
      "Fuel Type: Gasoline\n",
      "\n",
      "Accessing attributes using methods:\n",
      "Make: Toyota\n",
      "Model: Camry\n",
      "Year: 2023\n",
      "Fuel Type: Gasoline\n"
     ]
    }
   ],
   "source": [
    "class Vehicle:\n",
    "    def __init__(self, make, model, year):\n",
    "        self.make = make\n",
    "        self.model = model\n",
    "        self.year = year\n",
    "    \n",
    "    def display_info(self):\n",
    "        print(f\"Make: {self.make}\")\n",
    "        print(f\"Model: {self.model}\")\n",
    "        print(f\"Year: {self.year}\")\n",
    "    \n",
    "    def get_make(self):\n",
    "        return self.make\n",
    "    \n",
    "    def get_model(self):\n",
    "        return self.model\n",
    "    \n",
    "    def get_year(self):\n",
    "        return self.year\n",
    "\n",
    "\n",
    "class Car(Vehicle):\n",
    "    def __init__(self, make, model, year, fuel_type):\n",
    "        super().__init__(make, model, year)\n",
    "        self.fuel_type = fuel_type\n",
    "    \n",
    "    def display_info(self):\n",
    "        super().display_info()\n",
    "        print(f\"Fuel Type: {self.fuel_type}\")\n",
    "    \n",
    "    def get_fuel_type(self):\n",
    "        return self.fuel_type\n",
    "\n",
    "\n",
    "# Example usage:\n",
    "if __name__ == \"__main__\":\n",
    "    car1 = Car(\"Toyota\", \"Camry\", 2023, \"Gasoline\")\n",
    "    car1.display_info()\n",
    "\n",
    "    print(\"\\nAccessing attributes using methods:\")\n",
    "    print(f\"Make: {car1.get_make()}\")\n",
    "    print(f\"Model: {car1.get_model()}\")\n",
    "    print(f\"Year: {car1.get_year()}\")\n",
    "    print(f\"Fuel Type: {car1.get_fuel_type()}\")\n"
   ]
  },
  {
   "cell_type": "code",
   "execution_count": null,
   "metadata": {},
   "outputs": [],
   "source": [
    "7. Create a base class called \"Employee\" with attributes like \"name\" and \"salary.\"\n",
    "Derive two classes, \"Manager\" and \"Developer,\" from \"Employee.\" Add an additional\n",
    "attribute called \"department\" for the \"Manager\" class and \"programming_language\"\n",
    "for the \"Developer\" class."
   ]
  },
  {
   "cell_type": "code",
   "execution_count": 8,
   "metadata": {},
   "outputs": [
    {
     "name": "stdout",
     "output_type": "stream",
     "text": [
      "Manager:\n",
      "Name: Alice\n",
      "Salary: $80000.00\n",
      "Department: Engineering\n",
      "\n",
      "Developer:\n",
      "Name: Bob\n",
      "Salary: $60000.00\n",
      "Programming Language: Python\n"
     ]
    }
   ],
   "source": [
    "class Employee:\n",
    "    def __init__(self, name, salary):\n",
    "        self.name = name\n",
    "        self.salary = salary\n",
    "    \n",
    "    def display_info(self):\n",
    "        print(f\"Name: {self.name}\")\n",
    "        print(f\"Salary: ${self.salary:.2f}\")\n",
    "\n",
    "\n",
    "class Manager(Employee):\n",
    "    def __init__(self, name, salary, department):\n",
    "        super().__init__(name, salary)\n",
    "        self.department = department\n",
    "    \n",
    "    def display_info(self):\n",
    "        super().display_info()\n",
    "        print(f\"Department: {self.department}\")\n",
    "\n",
    "\n",
    "class Developer(Employee):\n",
    "    def __init__(self, name, salary, programming_language):\n",
    "        super().__init__(name, salary)\n",
    "        self.programming_language = programming_language\n",
    "    \n",
    "    def display_info(self):\n",
    "        super().display_info()\n",
    "        print(f\"Programming Language: {self.programming_language}\")\n",
    "\n",
    "\n",
    "# Example usage:\n",
    "if __name__ == \"__main__\":\n",
    "    manager1 = Manager(\"Alice\", 80000, \"Engineering\")\n",
    "    developer1 = Developer(\"Bob\", 60000, \"Python\")\n",
    "\n",
    "    print(\"Manager:\")\n",
    "    manager1.display_info()\n",
    "\n",
    "    print(\"\\nDeveloper:\")\n",
    "    developer1.display_info()\n"
   ]
  },
  {
   "cell_type": "code",
   "execution_count": null,
   "metadata": {},
   "outputs": [],
   "source": [
    "8. Design a base class called \"Shape\" with attributes like \"colour\" and \"border_width.\"\n",
    "Create derived classes, \"Rectangle\" and \"Circle,\" that inherit from \"Shape\" and add\n",
    "specific attributes like \"length\" and \"width\" for the \"Rectangle\" class and \"radius\" for\n",
    "the \"Circle\" class."
   ]
  },
  {
   "cell_type": "code",
   "execution_count": 9,
   "metadata": {},
   "outputs": [
    {
     "name": "stdout",
     "output_type": "stream",
     "text": [
      "Rectangle:\n",
      "Colour: Blue\n",
      "Border Width: 2\n",
      "Length: 5\n",
      "Width: 3\n",
      "Area: 15\n",
      "\n",
      "Circle:\n",
      "Colour: Red\n",
      "Border Width: 1\n",
      "Radius: 4\n",
      "Area: 50.27\n"
     ]
    }
   ],
   "source": [
    "class Shape:\n",
    "    def __init__(self, colour, border_width):\n",
    "        self.colour = colour\n",
    "        self.border_width = border_width\n",
    "    \n",
    "    def display_info(self):\n",
    "        print(f\"Colour: {self.colour}\")\n",
    "        print(f\"Border Width: {self.border_width}\")\n",
    "\n",
    "\n",
    "class Rectangle(Shape):\n",
    "    def __init__(self, colour, border_width, length, width):\n",
    "        super().__init__(colour, border_width)\n",
    "        self.length = length\n",
    "        self.width = width\n",
    "    \n",
    "    def display_info(self):\n",
    "        super().display_info()\n",
    "        print(f\"Length: {self.length}\")\n",
    "        print(f\"Width: {self.width}\")\n",
    "\n",
    "    def area(self):\n",
    "        return self.length * self.width\n",
    "\n",
    "\n",
    "class Circle(Shape):\n",
    "    def __init__(self, colour, border_width, radius):\n",
    "        super().__init__(colour, border_width)\n",
    "        self.radius = radius\n",
    "    \n",
    "    def display_info(self):\n",
    "        super().display_info()\n",
    "        print(f\"Radius: {self.radius}\")\n",
    "\n",
    "    def area(self):\n",
    "        import math\n",
    "        return math.pi * self.radius ** 2\n",
    "\n",
    "\n",
    "# Example usage:\n",
    "if __name__ == \"__main__\":\n",
    "    rectangle1 = Rectangle(\"Blue\", 2, 5, 3)\n",
    "    circle1 = Circle(\"Red\", 1, 4)\n",
    "\n",
    "    print(\"Rectangle:\")\n",
    "    rectangle1.display_info()\n",
    "    print(f\"Area: {rectangle1.area()}\")\n",
    "\n",
    "    print(\"\\nCircle:\")\n",
    "    circle1.display_info()\n",
    "    print(f\"Area: {circle1.area():.2f}\")\n"
   ]
  },
  {
   "cell_type": "code",
   "execution_count": null,
   "metadata": {},
   "outputs": [],
   "source": [
    "9. Create a base class called \"Device\" with attributes like \"brand\" and \"model.\" Derive\n",
    "two classes, \"Phone\" and \"Tablet,\" from \"Device.\" Add specific attributes like\n",
    "\"screen_size\" for the \"Phone\" class and \"battery_capacity\" for the \"Tablet\" class."
   ]
  },
  {
   "cell_type": "code",
   "execution_count": 10,
   "metadata": {},
   "outputs": [
    {
     "name": "stdout",
     "output_type": "stream",
     "text": [
      "Phone:\n",
      "Brand: Apple\n",
      "Model: iPhone 13\n",
      "Screen Size: 6.1 inches\n",
      "\n",
      "Tablet:\n",
      "Brand: Samsung\n",
      "Model: Galaxy Tab S7\n",
      "Battery Capacity: 8000 mAh\n"
     ]
    }
   ],
   "source": [
    "class Device:\n",
    "    def __init__(self, brand, model):\n",
    "        self.brand = brand\n",
    "        self.model = model\n",
    "    \n",
    "    def display_info(self):\n",
    "        print(f\"Brand: {self.brand}\")\n",
    "        print(f\"Model: {self.model}\")\n",
    "\n",
    "\n",
    "class Phone(Device):\n",
    "    def __init__(self, brand, model, screen_size):\n",
    "        super().__init__(brand, model)\n",
    "        self.screen_size = screen_size\n",
    "    \n",
    "    def display_info(self):\n",
    "        super().display_info()\n",
    "        print(f\"Screen Size: {self.screen_size}\")\n",
    "\n",
    "\n",
    "class Tablet(Device):\n",
    "    def __init__(self, brand, model, battery_capacity):\n",
    "        super().__init__(brand, model)\n",
    "        self.battery_capacity = battery_capacity\n",
    "    \n",
    "    def display_info(self):\n",
    "        super().display_info()\n",
    "        print(f\"Battery Capacity: {self.battery_capacity} mAh\")\n",
    "\n",
    "\n",
    "# Example usage:\n",
    "if __name__ == \"__main__\":\n",
    "    phone1 = Phone(\"Apple\", \"iPhone 13\", \"6.1 inches\")\n",
    "    tablet1 = Tablet(\"Samsung\", \"Galaxy Tab S7\", 8000)\n",
    "\n",
    "    print(\"Phone:\")\n",
    "    phone1.display_info()\n",
    "\n",
    "    print(\"\\nTablet:\")\n",
    "    tablet1.display_info()\n"
   ]
  },
  {
   "cell_type": "code",
   "execution_count": null,
   "metadata": {},
   "outputs": [],
   "source": [
    "10. Create a base class called \"BankAccount\" with attributes like \"account_number\" and\n",
    "\"balance.\" Derive two classes, \"SavingsAccount\" and \"CheckingAccount,\" from\n",
    "\"BankAccount.\" Add specific methods like \"calculate_interest\" for the\n",
    "\"SavingsAccount\" class and \"deduct_fees\" for the \"CheckingAccount\" class."
   ]
  },
  {
   "cell_type": "code",
   "execution_count": 11,
   "metadata": {},
   "outputs": [
    {
     "name": "stdout",
     "output_type": "stream",
     "text": [
      "Savings Account:\n",
      "Account Number: SA123456\n",
      "Balance: $1000.00\n",
      "Account Type: Savings Account\n",
      "Interest calculated: $15.00\n",
      "Account Number: SA123456\n",
      "Balance: $1015.00\n",
      "Account Type: Savings Account\n",
      "\n",
      "Checking Account:\n",
      "Account Number: CA987654\n",
      "Balance: $500.00\n",
      "Account Type: Checking Account\n",
      "Fees deducted: $10.00\n",
      "Account Number: CA987654\n",
      "Balance: $490.00\n",
      "Account Type: Checking Account\n"
     ]
    }
   ],
   "source": [
    "class BankAccount:\n",
    "    def __init__(self, account_number, balance):\n",
    "        self.account_number = account_number\n",
    "        self.balance = balance\n",
    "    \n",
    "    def display_info(self):\n",
    "        print(f\"Account Number: {self.account_number}\")\n",
    "        print(f\"Balance: ${self.balance:.2f}\")\n",
    "\n",
    "\n",
    "class SavingsAccount(BankAccount):\n",
    "    def __init__(self, account_number, balance):\n",
    "        super().__init__(account_number, balance)\n",
    "    \n",
    "    def calculate_interest(self, rate):\n",
    "        interest = self.balance * (rate / 100)\n",
    "        self.balance += interest\n",
    "        print(f\"Interest calculated: ${interest:.2f}\")\n",
    "    \n",
    "    def display_info(self):\n",
    "        super().display_info()\n",
    "        print(\"Account Type: Savings Account\")\n",
    "\n",
    "\n",
    "class CheckingAccount(BankAccount):\n",
    "    def __init__(self, account_number, balance):\n",
    "        super().__init__(account_number, balance)\n",
    "    \n",
    "    def deduct_fees(self, fee):\n",
    "        if self.balance >= fee:\n",
    "            self.balance -= fee\n",
    "            print(f\"Fees deducted: ${fee:.2f}\")\n",
    "        else:\n",
    "            print(\"Insufficient balance to deduct fees.\")\n",
    "    \n",
    "    def display_info(self):\n",
    "        super().display_info()\n",
    "        print(\"Account Type: Checking Account\")\n",
    "\n",
    "\n",
    "# Example usage:\n",
    "if __name__ == \"__main__\":\n",
    "    savings_account = SavingsAccount(\"SA123456\", 1000)\n",
    "    checking_account = CheckingAccount(\"CA987654\", 500)\n",
    "\n",
    "    print(\"Savings Account:\")\n",
    "    savings_account.display_info()\n",
    "    savings_account.calculate_interest(1.5)\n",
    "    savings_account.display_info()\n",
    "\n",
    "    print(\"\\nChecking Account:\")\n",
    "    checking_account.display_info()\n",
    "    checking_account.deduct_fees(10)\n",
    "    checking_account.display_info()\n"
   ]
  }
 ],
 "metadata": {
  "kernelspec": {
   "display_name": "Python 3",
   "language": "python",
   "name": "python3"
  },
  "language_info": {
   "codemirror_mode": {
    "name": "ipython",
    "version": 3
   },
   "file_extension": ".py",
   "mimetype": "text/x-python",
   "name": "python",
   "nbconvert_exporter": "python",
   "pygments_lexer": "ipython3",
   "version": "3.8.18"
  }
 },
 "nbformat": 4,
 "nbformat_minor": 2
}
